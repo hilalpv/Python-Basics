{
 "cells": [
  {
   "cell_type": "markdown",
   "metadata": {
    "id": "T6zRhriGSPBX"
   },
   "source": [
    "**1.How many seconds are in an hour? Use the interactive interpreter as a calculator and multiply the number of seconds in a minute (60) by the number of minutes in an hour (also 60).**  \n",
    "ANS - "
   ]
  },
  {
   "cell_type": "code",
   "execution_count": 13,
   "metadata": {
    "colab": {
     "base_uri": "https://localhost:8080/"
    },
    "id": "8ZWgShYjSloY",
    "outputId": "648146b9-7e73-4c2d-e4eb-8412720cda35"
   },
   "outputs": [
    {
     "data": {
      "text/plain": [
       "3600"
      ]
     },
     "execution_count": 13,
     "metadata": {},
     "output_type": "execute_result"
    }
   ],
   "source": [
    "min_per_hr = 60\n",
    "sec_per_min = 60 \n",
    "\n",
    "min_per_hr * sec_per_min\n"
   ]
  },
  {
   "cell_type": "markdown",
   "metadata": {
    "id": "tuZC2-XGTJer"
   },
   "source": [
    "**2. Assign the result from the previous task (seconds in an hour) to a variable called seconds_per_hour**  \n",
    "ANS - "
   ]
  },
  {
   "cell_type": "code",
   "execution_count": 15,
   "metadata": {
    "colab": {
     "base_uri": "https://localhost:8080/"
    },
    "id": "zuDKRIf-TYK6",
    "outputId": "f8153102-111a-45f8-9fb9-e5a8b124ad52"
   },
   "outputs": [
    {
     "data": {
      "text/plain": [
       "3600"
      ]
     },
     "execution_count": 15,
     "metadata": {},
     "output_type": "execute_result"
    }
   ],
   "source": [
    "seconds_per_hour = min_per_hr * sec_per_min\n",
    "seconds_per_hour"
   ]
  },
  {
   "cell_type": "markdown",
   "metadata": {
    "id": "fwR9UViTTntG"
   },
   "source": [
    "**3. How many seconds do you think there are in a day? Make use of the variables seconds per hour and minutes per hour**  \n",
    "ANS - "
   ]
  },
  {
   "cell_type": "code",
   "execution_count": 16,
   "metadata": {
    "colab": {
     "base_uri": "https://localhost:8080/"
    },
    "id": "Upiwf8eFT32m",
    "outputId": "93754791-2e98-45a1-9fce-05dc4c964417"
   },
   "outputs": [
    {
     "data": {
      "text/plain": [
       "86400"
      ]
     },
     "execution_count": 16,
     "metadata": {},
     "output_type": "execute_result"
    }
   ],
   "source": [
    "hours_in_day = 24 \n",
    "seconds_per_hour * hours_in_day\n"
   ]
  },
  {
   "cell_type": "markdown",
   "metadata": {
    "id": "rq9z1hWyUIVy"
   },
   "source": [
    "**4. Calculate seconds per day again, but this time save the result in a variable called seconds_per_day**  \n",
    "ANS - "
   ]
  },
  {
   "cell_type": "code",
   "execution_count": 17,
   "metadata": {
    "colab": {
     "base_uri": "https://localhost:8080/"
    },
    "id": "Qad6M7laUffN",
    "outputId": "737af54d-68c6-4017-9f65-b7504be6c285"
   },
   "outputs": [
    {
     "data": {
      "text/plain": [
       "86400"
      ]
     },
     "execution_count": 17,
     "metadata": {},
     "output_type": "execute_result"
    }
   ],
   "source": [
    "seconds_per_day = seconds_per_hour * hours_in_day\n",
    "seconds_per_day"
   ]
  },
  {
   "cell_type": "markdown",
   "metadata": {
    "id": "7TyPzmJiUt-Q"
   },
   "source": [
    "**5. Divide seconds_per_day by seconds_per_hour. Use floating-point (/) division.**  \n",
    "ANS - "
   ]
  },
  {
   "cell_type": "code",
   "execution_count": 18,
   "metadata": {
    "colab": {
     "base_uri": "https://localhost:8080/"
    },
    "id": "u9MEnomqUxCA",
    "outputId": "d4ba7857-dfb6-4077-eade-4e39c7648022"
   },
   "outputs": [
    {
     "data": {
      "text/plain": [
       "24.0"
      ]
     },
     "execution_count": 18,
     "metadata": {},
     "output_type": "execute_result"
    }
   ],
   "source": [
    "seconds_per_day/seconds_per_hour"
   ]
  },
  {
   "cell_type": "markdown",
   "metadata": {
    "id": "o1Jpib0FVN-P"
   },
   "source": [
    "**6. Divide seconds_per_day by seconds_per_hour, using integer (//) division. Did this number agree with the floating-point value from the previous question, aside from the final .0?**  \n",
    "ANS - "
   ]
  },
  {
   "cell_type": "code",
   "execution_count": 19,
   "metadata": {
    "colab": {
     "base_uri": "https://localhost:8080/"
    },
    "id": "1aItoHjMVVZh",
    "outputId": "98fbdf9c-73bc-439d-eeb5-37acd9f16116"
   },
   "outputs": [
    {
     "data": {
      "text/plain": [
       "24"
      ]
     },
     "execution_count": 19,
     "metadata": {},
     "output_type": "execute_result"
    }
   ],
   "source": [
    "seconds_per_day//seconds_per_hour \n",
    "#It agrees"
   ]
  }
 ],
 "metadata": {
  "colab": {
   "collapsed_sections": [],
   "name": "ASSIGNMENT NO.15.ipynb",
   "provenance": []
  },
  "kernelspec": {
   "display_name": "Python 3 (ipykernel)",
   "language": "python",
   "name": "python3"
  },
  "language_info": {
   "codemirror_mode": {
    "name": "ipython",
    "version": 3
   },
   "file_extension": ".py",
   "mimetype": "text/x-python",
   "name": "python",
   "nbconvert_exporter": "python",
   "pygments_lexer": "ipython3",
   "version": "3.9.7"
  }
 },
 "nbformat": 4,
 "nbformat_minor": 1
}
