{
 "cells": [
  {
   "cell_type": "markdown",
   "metadata": {
    "id": "p4fjjJObCuwN"
   },
   "source": [
    "**1. What does RGBA stand for?**  \n",
    "ANS - RGBA stands for Red,Green, Blue and Alpha(Transparency) respectively."
   ]
  },
  {
   "cell_type": "markdown",
   "metadata": {
    "id": "2IQbEF3uDG-y"
   },
   "source": [
    "**2. From the Pillow module, how do you get the RGBA value of any images?**  \n",
    "ANS - "
   ]
  },
  {
   "cell_type": "code",
   "execution_count": null,
   "metadata": {
    "id": "v6yuQmjJDRmc"
   },
   "outputs": [],
   "source": [
    "from PIL import ImageColor \n",
    "ImageColor.getcolor('red' , 'RGBA') \n",
    "ImageColor.getcolor('blue' , 'RGBA') "
   ]
  },
  {
   "cell_type": "markdown",
   "metadata": {
    "id": "uYhrIt0DDuXr"
   },
   "source": [
    "**3. What is a box tuple, and how does it work?**  \n",
    "ANS - It's a tuple value of four integers in which following contains -  \n",
    "left edge x-coordinate  \n",
    "top edge y-coordinate  \n",
    "The width  \n",
    "And the Height."
   ]
  },
  {
   "cell_type": "markdown",
   "metadata": {
    "id": "5Gzhun6aEfTI"
   },
   "source": [
    "**4. Use your image and load in notebook then, How can you find out the width and height of an Image object?**  \n",
    "ANS - "
   ]
  },
  {
   "cell_type": "code",
   "execution_count": 2,
   "metadata": {
    "colab": {
     "base_uri": "https://localhost:8080/"
    },
    "id": "7Bf4nlcqExWv",
    "outputId": "d6eb8615-9820-4472-e634-c4e78854948c"
   },
   "outputs": [
    {
     "data": {
      "text/plain": [
       "(1920, 1080)"
      ]
     },
     "execution_count": 2,
     "metadata": {},
     "output_type": "execute_result"
    }
   ],
   "source": [
    "from PIL import Image \n",
    "myImage = Image.open('nature.jpg')\n",
    "w,h = myImage.size \n",
    "w,h"
   ]
  },
  {
   "cell_type": "markdown",
   "metadata": {
    "id": "5jd7SLobFbDp"
   },
   "source": [
    "**5. What method would you call to get Image object for a 100×100 image, excluding the lower-left quarter of it?**  \n",
    "ANS - ImageObject.crop((0,50,50,50) This can do the work"
   ]
  },
  {
   "cell_type": "markdown",
   "metadata": {
    "id": "4mLSUkYXGIyV"
   },
   "source": [
    "**6. After making changes to an Image object, how could you save it as an image file?**  \n",
    "ANS - ImageObject.save('New_Image.jpg') This can do the work."
   ]
  },
  {
   "cell_type": "markdown",
   "metadata": {
    "id": "DUHIZ5SCGdiU"
   },
   "source": [
    "**7. What module contains Pillow’s shape-drawing code?**  \n",
    "ANS - The ImageDraw module contains Pillow's shape-drawing code."
   ]
  },
  {
   "cell_type": "markdown",
   "metadata": {
    "id": "eWyid_5KGp2W"
   },
   "source": [
    "**8. Image objects do not have drawing methods. What kind of object does? How do you get this kind of object?**  \n",
    "ANS - ImageDraw methods have drwaing method such as point() , line() and rectangle() ,etc.  \n",
    "The can be called by passing ImageDraw.Draw() function."
   ]
  }
 ],
 "metadata": {
  "colab": {
   "collapsed_sections": [],
   "name": "ASSIGNMENT NO.14 .ipynb",
   "provenance": []
  },
  "kernelspec": {
   "display_name": "Python 3 (ipykernel)",
   "language": "python",
   "name": "python3"
  },
  "language_info": {
   "codemirror_mode": {
    "name": "ipython",
    "version": 3
   },
   "file_extension": ".py",
   "mimetype": "text/x-python",
   "name": "python",
   "nbconvert_exporter": "python",
   "pygments_lexer": "ipython3",
   "version": "3.9.7"
  }
 },
 "nbformat": 4,
 "nbformat_minor": 1
}
