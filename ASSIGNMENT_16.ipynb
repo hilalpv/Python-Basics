{
 "cells": [
  {
   "cell_type": "markdown",
   "metadata": {
    "id": "ZZafZk9Jrtm7"
   },
   "source": [
    "**1. Create a list called years_list, starting with the year of your birth, and each year thereafter until the year of your fifth birthday. For example, if you were born in 1980. the list would be years_list = [1980, 1981, 1982, 1983, 1984, 1985].**  \n",
    "ANS - "
   ]
  },
  {
   "cell_type": "code",
   "execution_count": 1,
   "metadata": {
    "colab": {
     "base_uri": "https://localhost:8080/"
    },
    "id": "THGFf8_HrzVP",
    "outputId": "b1eb7326-5fb4-496a-c053-f64930948e7a"
   },
   "outputs": [
    {
     "data": {
      "text/plain": [
       "[1985, 1986, 1987, 1988, 1989, 1990]"
      ]
     },
     "execution_count": 1,
     "metadata": {},
     "output_type": "execute_result"
    }
   ],
   "source": [
    "years_list = [i for i in range(1985,1991)]\n",
    "years_list"
   ]
  },
  {
   "cell_type": "markdown",
   "metadata": {
    "id": "shj2woJKsaxe"
   },
   "source": [
    "**2. In which year in years_list was your third birthday? Remember, you were 0 years of age for your first year.**  \n",
    "ANS - "
   ]
  },
  {
   "cell_type": "code",
   "execution_count": 3,
   "metadata": {
    "colab": {
     "base_uri": "https://localhost:8080/"
    },
    "id": "x2K88WTrsnsk",
    "outputId": "f6182acd-9394-41f9-ee86-df1d7f267a1f"
   },
   "outputs": [
    {
     "data": {
      "text/plain": [
       "1988"
      ]
     },
     "execution_count": 3,
     "metadata": {},
     "output_type": "execute_result"
    }
   ],
   "source": [
    "years_list[3]"
   ]
  },
  {
   "cell_type": "markdown",
   "metadata": {
    "id": "SRhw8Xwjsyyg"
   },
   "source": [
    "**3.In the years list, which year were you the oldest?**  \n",
    "ANS - "
   ]
  },
  {
   "cell_type": "code",
   "execution_count": 4,
   "metadata": {
    "colab": {
     "base_uri": "https://localhost:8080/"
    },
    "id": "4pRPvrYrtquM",
    "outputId": "26aa8901-76cf-4aae-972d-bcbcd3c7a162"
   },
   "outputs": [
    {
     "data": {
      "text/plain": [
       "1990"
      ]
     },
     "execution_count": 4,
     "metadata": {},
     "output_type": "execute_result"
    }
   ],
   "source": [
    "max(years_list)"
   ]
  },
  {
   "cell_type": "markdown",
   "metadata": {
    "id": "gnFFKL_kt7Bx"
   },
   "source": [
    "**4. Make a list called things with these three strings as elements: 'mozzarella', 'cinderella','salmonella'.**  \n",
    "ANS - "
   ]
  },
  {
   "cell_type": "code",
   "execution_count": 5,
   "metadata": {
    "colab": {
     "base_uri": "https://localhost:8080/"
    },
    "id": "Mkq4G19Nt9_d",
    "outputId": "33fe2028-34ef-452b-e7f6-864dd233e762"
   },
   "outputs": [
    {
     "data": {
      "text/plain": [
       "['mozzarella', 'cinderella', 'salmonella']"
      ]
     },
     "execution_count": 5,
     "metadata": {},
     "output_type": "execute_result"
    }
   ],
   "source": [
    "things =['mozzarella', 'cinderella','salmonella']\n",
    "things"
   ]
  },
  {
   "cell_type": "markdown",
   "metadata": {
    "id": "yn6tTfa8uSQu"
   },
   "source": [
    "**5. Capitalize the element in things that refers to a person and then print the list. Did it change the element in the list?**  \n",
    "ANS - "
   ]
  },
  {
   "cell_type": "code",
   "execution_count": 6,
   "metadata": {
    "colab": {
     "base_uri": "https://localhost:8080/"
    },
    "id": "zHKCkKxeuVBA",
    "outputId": "08fcb82c-8c8a-41f7-89aa-e524dd69817c"
   },
   "outputs": [
    {
     "name": "stdout",
     "output_type": "stream",
     "text": [
      "Mozzarella\n",
      "Cinderella\n",
      "Salmonella\n"
     ]
    },
    {
     "data": {
      "text/plain": [
       "['mozzarella', 'cinderella', 'salmonella']"
      ]
     },
     "execution_count": 6,
     "metadata": {},
     "output_type": "execute_result"
    }
   ],
   "source": [
    "for i in things:\n",
    "  print(i.capitalize())\n",
    "things #Did not change the elemnts"
   ]
  },
  {
   "cell_type": "markdown",
   "metadata": {
    "id": "zBUSOhTBuxu4"
   },
   "source": [
    "**6. Make a surprise list with the elements \"Groucho\", \"Chico\", and \"Harpo\"**  \n",
    "ANS - \n"
   ]
  },
  {
   "cell_type": "code",
   "execution_count": 7,
   "metadata": {
    "colab": {
     "base_uri": "https://localhost:8080/"
    },
    "id": "4TOan1y9u-WE",
    "outputId": "597f52fc-f272-4cd6-86dc-20c303055d64"
   },
   "outputs": [
    {
     "data": {
      "text/plain": [
       "['Groucho', 'Chico', 'Harpo']"
      ]
     },
     "execution_count": 7,
     "metadata": {},
     "output_type": "execute_result"
    }
   ],
   "source": [
    "surprise = [ \"Groucho\", \"Chico\", \"Harpo\"]\n",
    "surprise"
   ]
  },
  {
   "cell_type": "markdown",
   "metadata": {
    "id": "CGQLG_gYvg8R"
   },
   "source": [
    "**7. Lowercase the last element of the surprise list, reverse it, and then capitalize it**  \n",
    "ANS - "
   ]
  },
  {
   "cell_type": "code",
   "execution_count": 8,
   "metadata": {
    "colab": {
     "base_uri": "https://localhost:8080/",
     "height": 34
    },
    "id": "BX8Z634zvkZJ",
    "outputId": "bc4cf2f9-c7a9-45db-cb5e-5efd774bc53b"
   },
   "outputs": [
    {
     "data": {
      "text/plain": [
       "'harpo'"
      ]
     },
     "execution_count": 8,
     "metadata": {},
     "output_type": "execute_result"
    }
   ],
   "source": [
    "surprise[-1].lower()"
   ]
  },
  {
   "cell_type": "code",
   "execution_count": 9,
   "metadata": {
    "colab": {
     "base_uri": "https://localhost:8080/",
     "height": 34
    },
    "id": "_ANylB6ZvtAt",
    "outputId": "53f56f8f-413b-4569-bb3f-fe6d767321b0"
   },
   "outputs": [
    {
     "data": {
      "text/plain": [
       "'opraH'"
      ]
     },
     "execution_count": 9,
     "metadata": {},
     "output_type": "execute_result"
    }
   ],
   "source": [
    "surprise[-1][::-1]"
   ]
  },
  {
   "cell_type": "code",
   "execution_count": 10,
   "metadata": {
    "colab": {
     "base_uri": "https://localhost:8080/",
     "height": 34
    },
    "id": "1dAF7LMTv0By",
    "outputId": "bdd40736-6b59-43a3-d443-6bd6de9278b7"
   },
   "outputs": [
    {
     "data": {
      "text/plain": [
       "'Oprah'"
      ]
     },
     "execution_count": 10,
     "metadata": {},
     "output_type": "execute_result"
    }
   ],
   "source": [
    "surprise[-1][::-1].capitalize()"
   ]
  },
  {
   "cell_type": "markdown",
   "metadata": {
    "id": "36zNTwsIwK-C"
   },
   "source": [
    "**8. Make an English-to-French dictionary called e2f and print it. Here are your starter words: dog is chien, cat is chat, and walrus is morse**  \n",
    "ANS - "
   ]
  },
  {
   "cell_type": "code",
   "execution_count": 11,
   "metadata": {
    "colab": {
     "base_uri": "https://localhost:8080/"
    },
    "id": "rxBCBzC6wZrr",
    "outputId": "a8ececff-ffc3-4046-e6cc-7aa3bc82dfad"
   },
   "outputs": [
    {
     "data": {
      "text/plain": [
       "{'dog': 'chien', 'cat': 'chat', 'warlus': 'morse'}"
      ]
     },
     "execution_count": 11,
     "metadata": {},
     "output_type": "execute_result"
    }
   ],
   "source": [
    "e2f = {\"dog\" : \"chien\", \"cat\" : \"chat\" , \"warlus\" : \"morse\"}\n",
    "e2f"
   ]
  },
  {
   "cell_type": "markdown",
   "metadata": {
    "id": "MOZfofpwwtZR"
   },
   "source": [
    "**9. Write the French word for walrus in your three-word dictionary e2f**"
   ]
  },
  {
   "cell_type": "code",
   "execution_count": 12,
   "metadata": {
    "colab": {
     "base_uri": "https://localhost:8080/",
     "height": 34
    },
    "id": "CljoWTphxGh9",
    "outputId": "adaf3829-75d7-45d0-bd0c-8795abf378bf"
   },
   "outputs": [
    {
     "data": {
      "text/plain": [
       "'morse'"
      ]
     },
     "execution_count": 12,
     "metadata": {},
     "output_type": "execute_result"
    }
   ],
   "source": [
    "e2f[\"warlus\"]"
   ]
  },
  {
   "cell_type": "markdown",
   "metadata": {
    "id": "RuZcwdSzxP__"
   },
   "source": [
    "**10. Make a French-to-English dictionary called f2e from e2f. Use the items method**  \n",
    "ANS - "
   ]
  },
  {
   "cell_type": "code",
   "execution_count": 13,
   "metadata": {
    "colab": {
     "base_uri": "https://localhost:8080/"
    },
    "id": "N5NYF8mPxV04",
    "outputId": "347478a5-74d9-441c-83e1-b09ccaa491f0"
   },
   "outputs": [
    {
     "data": {
      "text/plain": [
       "{'chien': 'dog', 'chat': 'cat', 'morse': 'warlus'}"
      ]
     },
     "execution_count": 13,
     "metadata": {},
     "output_type": "execute_result"
    }
   ],
   "source": [
    "f2e = dict((key,value) for value,key in e2f.items())\n",
    "f2e"
   ]
  },
  {
   "cell_type": "markdown",
   "metadata": {
    "id": "kLv_-nOxyQWy"
   },
   "source": [
    "**11. Print the English version of the French word chien using f2e.**  \n",
    "ANS - "
   ]
  },
  {
   "cell_type": "code",
   "execution_count": 14,
   "metadata": {
    "colab": {
     "base_uri": "https://localhost:8080/",
     "height": 34
    },
    "id": "Po2jT2LwzbCI",
    "outputId": "ddec7856-6d81-4adf-dfd9-5bab2b4b55fb"
   },
   "outputs": [
    {
     "data": {
      "text/plain": [
       "'dog'"
      ]
     },
     "execution_count": 14,
     "metadata": {},
     "output_type": "execute_result"
    }
   ],
   "source": [
    "f2e['chien']"
   ]
  },
  {
   "cell_type": "markdown",
   "metadata": {
    "id": "R5PuAZwkzkYB"
   },
   "source": [
    "**12. Make and print a set of English words from the keys in e2f.**  \n",
    "ANS -"
   ]
  },
  {
   "cell_type": "code",
   "execution_count": 17,
   "metadata": {
    "colab": {
     "base_uri": "https://localhost:8080/"
    },
    "id": "uFFnKOROz2vW",
    "outputId": "91e80aac-6fc2-47eb-e295-ee03fa34b372"
   },
   "outputs": [
    {
     "data": {
      "text/plain": [
       "dict_keys(['dog', 'cat', 'warlus'])"
      ]
     },
     "execution_count": 17,
     "metadata": {},
     "output_type": "execute_result"
    }
   ],
   "source": [
    "e2f.keys()"
   ]
  },
  {
   "cell_type": "markdown",
   "metadata": {
    "id": "lZ5f3hbe0APo"
   },
   "source": [
    "**13. Make a multilevel dictionary called life. Use these strings for the topmost keys: 'animals', 'plants', and 'other'. Make the 'animals' key refer to another dictionary with the keys 'cats', 'octopi', and 'emus'. Make the 'cats' key refer to a list of strings with the values 'Henri', 'Grumpy', and 'Lucy'. Make all the other keys refer to empty dictionaries.**  \n",
    "ANS -"
   ]
  },
  {
   "cell_type": "code",
   "execution_count": 27,
   "metadata": {
    "colab": {
     "base_uri": "https://localhost:8080/"
    },
    "id": "LiAQnF2b0E5o",
    "outputId": "d653df3a-be71-461c-cc15-dd3e63868599"
   },
   "outputs": [
    {
     "data": {
      "text/plain": [
       "{'animals': {'cat': ['Henri', 'Grumpy', 'Lucy'], 'emus': '', 'octopi': ''},\n",
       " 'other': '',\n",
       " 'plants': ''}"
      ]
     },
     "execution_count": 27,
     "metadata": {},
     "output_type": "execute_result"
    }
   ],
   "source": [
    "life ={'animals':{'cat':['Henri', 'Grumpy', 'Lucy'], 'octopi':'', 'emus':''},\n",
    "       'plants' :'',\n",
    "       'other' :'' }\n",
    "life"
   ]
  },
  {
   "cell_type": "markdown",
   "metadata": {
    "id": "EHo8wSpg0PCT"
   },
   "source": [
    "**14. Print the top-level keys of life.**  \n",
    "ANS - "
   ]
  },
  {
   "cell_type": "code",
   "execution_count": 28,
   "metadata": {
    "colab": {
     "base_uri": "https://localhost:8080/"
    },
    "id": "oDQMgtjS0Riu",
    "outputId": "6fed05f9-8445-4c89-ab11-951d2578e8b0"
   },
   "outputs": [
    {
     "data": {
      "text/plain": [
       "dict_keys(['animals', 'plants', 'other'])"
      ]
     },
     "execution_count": 28,
     "metadata": {},
     "output_type": "execute_result"
    }
   ],
   "source": [
    "life.keys()"
   ]
  },
  {
   "cell_type": "markdown",
   "metadata": {
    "id": "Ij4jgFny0orn"
   },
   "source": [
    "**15. Print the keys for life['animals']**  \n",
    "ANS -"
   ]
  },
  {
   "cell_type": "code",
   "execution_count": 29,
   "metadata": {
    "colab": {
     "base_uri": "https://localhost:8080/"
    },
    "id": "1MK_ZfV40rTi",
    "outputId": "977726d1-af9d-4ea8-9a72-e37387f91fd8"
   },
   "outputs": [
    {
     "data": {
      "text/plain": [
       "dict_keys(['cat', 'octopi', 'emus'])"
      ]
     },
     "execution_count": 29,
     "metadata": {},
     "output_type": "execute_result"
    }
   ],
   "source": [
    "life['animals'].keys()"
   ]
  },
  {
   "cell_type": "markdown",
   "metadata": {
    "id": "1sacHHxa0yMh"
   },
   "source": [
    "**16. Print the values for life['animals']['cat']**  \n",
    "ANS -"
   ]
  },
  {
   "cell_type": "code",
   "execution_count": 30,
   "metadata": {
    "colab": {
     "base_uri": "https://localhost:8080/"
    },
    "id": "VmCISa0P00PH",
    "outputId": "d51d0d3c-463b-4492-a283-db4fcc5a9754"
   },
   "outputs": [
    {
     "data": {
      "text/plain": [
       "['Henri', 'Grumpy', 'Lucy']"
      ]
     },
     "execution_count": 30,
     "metadata": {},
     "output_type": "execute_result"
    }
   ],
   "source": [
    "life['animals']['cat']"
   ]
  }
 ],
 "metadata": {
  "colab": {
   "collapsed_sections": [],
   "name": "ASSIGNMENT NO.16.ipynb",
   "provenance": []
  },
  "kernelspec": {
   "display_name": "Python 3 (ipykernel)",
   "language": "python",
   "name": "python3"
  },
  "language_info": {
   "codemirror_mode": {
    "name": "ipython",
    "version": 3
   },
   "file_extension": ".py",
   "mimetype": "text/x-python",
   "name": "python",
   "nbconvert_exporter": "python",
   "pygments_lexer": "ipython3",
   "version": "3.9.7"
  }
 },
 "nbformat": 4,
 "nbformat_minor": 1
}
