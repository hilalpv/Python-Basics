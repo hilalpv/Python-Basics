{
 "cells": [
  {
   "cell_type": "markdown",
   "metadata": {
    "id": "yVGsA_iPvkaA"
   },
   "source": [
    "**1. What advantages do Excel spreadsheets have over CSV spreadsheets?**  \n",
    "Ans - 1.Files saved in excel cannot be edited in any text editor.  \n",
    "2. In Excel we can store data as well as can perfrom operations on data.  \n",
    "3. Data analysis and Data ,manipulation can be done by excel spreadsheet effectively.  \n",
    "4. We can store the data in excel in the form of bars, graphs and charts.  \n",
    "5. Excel can be connected to external data source."
   ]
  },
  {
   "cell_type": "markdown",
   "metadata": {
    "id": "ygy8pdcTx9jG"
   },
   "source": [
    "**2.What do you pass to csv.reader() and csv.writer() to create reader and writer objects?**  \n",
    "ANS - "
   ]
  },
  {
   "cell_type": "code",
   "execution_count": null,
   "metadata": {
    "id": "UR3wgkuxy-U6"
   },
   "outputs": [],
   "source": []
  },
  {
   "cell_type": "markdown",
   "metadata": {
    "id": "nEh9jiiy0jYE"
   },
   "source": [
    "**3. What modes do File objects for reader and writer objects need to be opened in?**  \n",
    "ANS - Read binary ('rb') = For reader objects and Write binary('wb') = For writer objects"
   ]
  },
  {
   "cell_type": "markdown",
   "metadata": {
    "id": "Am2YtdtZ1H39"
   },
   "source": [
    "**4. What method takes a list argument and writes it to a CSV file?**  \n",
    "ANS - writerows() takes list argument and writes it to a csv file."
   ]
  },
  {
   "cell_type": "markdown",
   "metadata": {
    "id": "vyZMtjI71WXI"
   },
   "source": [
    "**5. What do the keyword arguments delimiter and line terminator do?**  \n",
    "ANS - Delimeter - The delimiter argument changes the string used to separate cells in a row.   \n",
    "Lineterminator - The lineterminator argument changes the string used to separate rows."
   ]
  },
  {
   "cell_type": "markdown",
   "metadata": {
    "id": "5E8lJO_e2OtJ"
   },
   "source": [
    "**6. What function takes a string of JSON data and returns a Python data structure?**  \n",
    "ANS - json.loads() is the function we use."
   ]
  },
  {
   "cell_type": "markdown",
   "metadata": {
    "id": "t9kWpXwF2cXd"
   },
   "source": [
    "**7. What function takes a Python data structure and returns a string of JSON data?**  \n",
    "ANS - json.dump() is the function we use."
   ]
  }
 ],
 "metadata": {
  "colab": {
   "name": "ASSIGNMENT NO.13.ipynb",
   "provenance": []
  },
  "kernelspec": {
   "display_name": "Python 3 (ipykernel)",
   "language": "python",
   "name": "python3"
  },
  "language_info": {
   "codemirror_mode": {
    "name": "ipython",
    "version": 3
   },
   "file_extension": ".py",
   "mimetype": "text/x-python",
   "name": "python",
   "nbconvert_exporter": "python",
   "pygments_lexer": "ipython3",
   "version": "3.9.7"
  }
 },
 "nbformat": 4,
 "nbformat_minor": 1
}
