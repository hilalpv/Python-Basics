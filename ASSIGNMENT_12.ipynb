{
 "cells": [
  {
   "cell_type": "markdown",
   "metadata": {
    "id": "1Sq3irftkntg"
   },
   "source": [
    "**1. In what modes should the PdfFileReader() and PdfFileWriter() File objects will be opened?**  \n",
    "ANS - For **PdfFileReader()** file objects should be opened in **rb ->** read binary mode, Whereas for **PdfFileWriter()** file objects should be opened in **wb ->** write binary mode."
   ]
  },
  {
   "cell_type": "markdown",
   "metadata": {
    "id": "cwAwUCG3kvu4"
   },
   "source": [
    "**2. From a PdfFileReader object, how do you get a Page object for page 5?**  \n",
    "ANS - **PdfFileReader** class provides a method called **getPage(page_no)** to get a page object.\n"
   ]
  },
  {
   "cell_type": "markdown",
   "metadata": {
    "id": "yd4wWyXPoePV"
   },
   "source": [
    "**3. What PdfFileReader variable stores the number of pages in the PDF document?**  \n",
    "ANS - **getNumPages()** method of **PdfFileReader** class stores the no pages in a PDF document"
   ]
  },
  {
   "cell_type": "markdown",
   "metadata": {
    "id": "xO6PpTt-osKt"
   },
   "source": [
    "**4. If a PdfFileReader object’s PDF is encrypted with the password swordfish, what must you do before you can obtain Page objects from it?**  \n",
    "ANS - If a **PdfFileReader** object’s PDF is encrypted with the password **swordfish** and you're not aware of it. first read the Pdf using the PdfFileReader Class. PdfFileReader class provides a attribute called **isEncrypted** to check whether a pdf is encrypted or not. the method returns true if a pdf is encrypted and vice versa.\n",
    "if pdf is encrypted use the **decrypt()** method provided by PdfFileReader class first then try to read the contents/pages of the pdf, else PyPDF2 will raise the following error **PyPDF2.utils.PdfReadError: file has not been decrypted**"
   ]
  },
  {
   "cell_type": "markdown",
   "metadata": {
    "id": "sJf9txdBpCBu"
   },
   "source": [
    "**5. What methods do you use to rotate a page?**  \n",
    "ANS - PyPDF2 Package provides 2 methods to rotate a page:\n",
    "1. rotateClockWise() -> For Clockwise rotation\n",
    "2. rotateCounterClockWise() -> For Counter Clockwise rotation   \n",
    "The PyPDF2 package only allows you to rotate a page in increments of 90 degrees. You will receive an AssertionError otherwise."
   ]
  },
  {
   "cell_type": "markdown",
   "metadata": {
    "id": "ZIPEouRApNeY"
   },
   "source": [
    "**7. How do you obtain a list of Paragraph objects for a Document object that’s stored in a variable named doc?**  \n",
    "ANS - "
   ]
  },
  {
   "cell_type": "code",
   "execution_count": null,
   "metadata": {
    "id": "EeVTRu09pctc"
   },
   "outputs": [],
   "source": [
    "from docx import Document\n",
    "doc = Document(\"sample_file.docx\") # Path of the Docx file\n",
    "print(doc.paragraphs) # Prints the list of Paragraph objects for a Document\n",
    "for paragraph in doc.paragraphs:\n",
    "    print(paragraph.text) # Prints the text in the paragraph"
   ]
  },
  {
   "cell_type": "markdown",
   "metadata": {
    "id": "YIM02_b-pe08"
   },
   "source": [
    "**8. What type of object has bold, underline, italic, strike, and outline variables?**  \n",
    "ANS - **Run** object has bold, underline, italic, strike, and outline variables. The text in a Word document is more than just a string. It has font, size, color, and other styling information associated with it.\n",
    "\n",
    "A style in Word is a collection of these attributes. A Run object is a contiguous run of text with the same style. A new Run object is needed whenever the text style changes."
   ]
  },
  {
   "cell_type": "markdown",
   "metadata": {
    "id": "xHqDoA2Lplpw"
   },
   "source": [
    "**9. What is the difference between False, True, and None for the bold variable?**  \n",
    "ANS - "
   ]
  },
  {
   "cell_type": "code",
   "execution_count": null,
   "metadata": {
    "id": "7yUje0ENpqms"
   },
   "outputs": [],
   "source": [
    "bold = True  # Style Set to Bold\n",
    "bold = False # Style Not Set to Bold\n",
    "bold = None # Style is Not Applicable"
   ]
  },
  {
   "cell_type": "markdown",
   "metadata": {
    "id": "aU4C1S9eptQb"
   },
   "source": [
    "**10. How do you create a Document object for a new Word document?**  \n",
    "ANS - "
   ]
  },
  {
   "cell_type": "code",
   "execution_count": null,
   "metadata": {
    "id": "_3NiIcVtpzbV"
   },
   "outputs": [],
   "source": [
    "# Sample Program\n",
    "from docx import Document\n",
    "document = Document()\n",
    "document.add_paragraph(\"iNeuron\")\n",
    "document.save('my_document.docx')"
   ]
  },
  {
   "cell_type": "markdown",
   "metadata": {
    "id": "oZj2K2EMp15V"
   },
   "source": [
    "**11. How do you add a paragraph with the text 'Hello, there!' to a Document object stored in a variable named doc?**  \n",
    "ANS - "
   ]
  },
  {
   "cell_type": "code",
   "execution_count": null,
   "metadata": {
    "id": "Bwmd2OfBp7A3"
   },
   "outputs": [],
   "source": [
    "# Sample Program\n",
    "from docx import Document\n",
    "doc = Document()\n",
    "doc.add_paragraph('Hello')\n",
    "doc.save('hello1.docx')"
   ]
  },
  {
   "cell_type": "markdown",
   "metadata": {
    "id": "E5YEIwKWp8nI"
   },
   "source": [
    "**12. What integers represent the levels of headings available in Word documents?**  \n",
    "ANS - The levels for a heading in a word document can be specified by using the **level** attribute inside the **add_heading** method. There are a total of 5 levels statring for 0 t0 4. where level 0 makes a headline with the horizontal line below the text, whereas the heading level 1 is the main heading. Similarly, the other headings are sub-heading with their's font-sizes in decreasing order."
   ]
  }
 ],
 "metadata": {
  "colab": {
   "collapsed_sections": [],
   "name": "ASSIGNMENT_NO.12.ipynb",
   "provenance": []
  },
  "kernelspec": {
   "display_name": "Python 3 (ipykernel)",
   "language": "python",
   "name": "python3"
  },
  "language_info": {
   "codemirror_mode": {
    "name": "ipython",
    "version": 3
   },
   "file_extension": ".py",
   "mimetype": "text/x-python",
   "name": "python",
   "nbconvert_exporter": "python",
   "pygments_lexer": "ipython3",
   "version": "3.9.7"
  }
 },
 "nbformat": 4,
 "nbformat_minor": 1
}
